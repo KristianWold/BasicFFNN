{
 "cells": [
  {
   "cell_type": "code",
   "execution_count": 1,
   "metadata": {},
   "outputs": [],
   "source": [
    "import numpy as np\n",
    "import matplotlib.pyplot as plt"
   ]
  },
  {
   "cell_type": "code",
   "execution_count": 2,
   "metadata": {},
   "outputs": [],
   "source": [
    "def sigmoid(x):\n",
    "    return 1/(1+np.exp(-x))\n",
    "\n",
    "\n",
    "def sigmoid_deriv(x):\n",
    "    return sigmoid(x)*(1 - sigmoid(x))\n",
    "\n",
    "\n",
    "def make_weights_and_biases(dim):\n",
    "    weights = []\n",
    "    biases = []\n",
    "    L = len(dim) - 1\n",
    "    for i in range(L):\n",
    "        weights.append(np.random.normal(0, 1, (dim[i], dim[i+1])))\n",
    "        biases.append(np.random.normal(0, 1, (dim[i+1], 1)))\n",
    "    return weights, biases\n",
    "\n",
    "\n",
    "def feed_forward(x, weights, biases):\n",
    "    z_list = [] #linear combination of outputs of previous layer, fed into the nodes of next layer \n",
    "    a_list = [] #activations, the values that comes out of each node\n",
    "    \n",
    "    a = x #[n_features, m]\n",
    "    a_list.append(a) #note, a_list is one longer than z_list!\n",
    "    for w, b in zip(weights, biases):\n",
    "        z = w.T@a + b\n",
    "        a = sigmoid(z)\n",
    "        \n",
    "        z_list.append(z)\n",
    "        a_list.append(a)\n",
    "    \n",
    "    return a, z_list, a_list\n",
    "\n",
    "\n",
    "def backprop(x, y, weights, biases):\n",
    "    m = y.shape[1] #number of samples\n",
    "    num_layers = len(weights)\n",
    "    grad_weights = []\n",
    "    grad_biases = []\n",
    "    \n",
    "    y_pred, z_list, a_list = feed_forward(x, weights, biases)\n",
    "    \n",
    "    #Compute gradient of weights and biases of last layer(output)\n",
    "    #--------------------------------------------------------------\n",
    "    J = sigmoid_deriv(z_list[-1])*(y_pred - y)\n",
    "    grad_w = 1/m *a_list[-2]@J.T\n",
    "    grad_b = 1/m*np.sum(J, axis=1).reshape(-1,1)\n",
    "    \n",
    "    grad_weights.append(grad_w)\n",
    "    grad_biases.append(grad_b)\n",
    "    #--------------------------------------------------------------\n",
    "\n",
    "    for i in reversed(range(num_layers - 1)):         #work thru rest of layers in reverse\n",
    "        J = sigmoid_deriv(z_list[i])*(weights[i+1]@J)\n",
    "         \n",
    "        grad_w = 1/m*a_list[i]@J.T\n",
    "        grad_b = 1/m*np.sum(J, axis=1).reshape(-1,1)\n",
    "        \n",
    "        grad_weights.append(grad_w)\n",
    "        grad_biases.append(grad_b)\n",
    "        \n",
    "    grad_weights.reverse()\n",
    "    grad_biases.reverse()\n",
    "    \n",
    "    return grad_weights, grad_biases "
   ]
  },
  {
   "cell_type": "markdown",
   "metadata": {},
   "source": [
    "### Generate data for classification"
   ]
  },
  {
   "cell_type": "code",
   "execution_count": 3,
   "metadata": {},
   "outputs": [
    {
     "data": {
      "image/png": "[encoded data removed]",
      "text/plain": [
       "<Figure size 432x288 with 1 Axes>"
      ]
     },
     "metadata": {
      "needs_background": "light"
     },
     "output_type": "display_data"
    }
   ],
   "source": [
    "np.random.seed(42)\n",
    "n = 100\n",
    "x = np.linspace(0, 1, n).reshape(1,-1)\n",
    "y = 1.1 - 3*x + 3*x**2\n",
    "y_cat = y > 0.5\n",
    "\n",
    "\n",
    "plt.plot(x[0], y[0])\n",
    "plt.plot(x[y_cat==0], y_cat[y_cat==0], \"bo\")\n",
    "plt.plot(x[y_cat==1], y_cat[y_cat==1], \"ro\")\n",
    "plt.show()"
   ]
  },
  {
   "cell_type": "markdown",
   "metadata": {},
   "source": [
    "### Initialize model and test before training"
   ]
  },
  {
   "cell_type": "code",
   "execution_count": 4,
   "metadata": {},
   "outputs": [
    {
     "data": {
      "image/png": "[encoded data removed]",
      "text/plain": [
       "<Figure size 432x288 with 1 Axes>"
      ]
     },
     "metadata": {
      "needs_background": "light"
     },
     "output_type": "display_data"
    }
   ],
   "source": [
    "dim = [1, 5, 5, 1] #1 input, single hidden layer with 5 nodes, 1 output\n",
    "weights, biases = make_weights_and_biases(dim)\n",
    "\n",
    "y_pred, _, _ = feed_forward(x, weights, biases)\n",
    "y_pred = np.round(y_pred)\n",
    "\n",
    "plt.plot(x[y_pred==0], y_pred[y_pred==0], \"bo\")\n",
    "plt.plot(x[y_pred==1], y_pred[y_pred==1], \"ro\")\n",
    "plt.show()"
   ]
  },
  {
   "cell_type": "markdown",
   "metadata": {},
   "source": [
    "Sucks!"
   ]
  },
  {
   "cell_type": "markdown",
   "metadata": {},
   "source": [
    "### Training with GD"
   ]
  },
  {
   "cell_type": "code",
   "execution_count": 5,
   "metadata": {},
   "outputs": [],
   "source": [
    "eta = 0.5\n",
    "for j in range(10000):\n",
    "    grad_weights, grad_biases = backprop(x, y_cat, weights, biases)\n",
    "    for i in range(len(weights)):\n",
    "        weights[i] -= eta*grad_weights[i]\n",
    "        biases[i] -= eta*grad_biases[i]"
   ]
  },
  {
   "cell_type": "markdown",
   "metadata": {},
   "source": [
    "### Test on data after training"
   ]
  },
  {
   "cell_type": "code",
   "execution_count": 6,
   "metadata": {},
   "outputs": [
    {
     "data": {
      "image/png": "[encoded data removed]",
      "text/plain": [
       "<Figure size 432x288 with 1 Axes>"
      ]
     },
     "metadata": {
      "needs_background": "light"
     },
     "output_type": "display_data"
    }
   ],
   "source": [
    "y_pred, _, _ = feed_forward(x, weights, biases)\n",
    "y_pred = np.round(y_pred)\n",
    "\n",
    "plt.plot(x[y_pred==0], y_pred[y_pred==0], \"bo\")\n",
    "plt.plot(x[y_pred==1], y_pred[y_pred==1], \"ro\")\n",
    "plt.show()"
   ]
  },
  {
   "cell_type": "markdown",
   "metadata": {},
   "source": [
    "Works!"
   ]
  }
 ],
 "metadata": {
  "kernelspec": {
   "display_name": "Python 3",
   "language": "python",
   "name": "python3"
  },
  "language_info": {
   "codemirror_mode": {
    "name": "ipython",
    "version": 3
   },
   "file_extension": ".py",
   "mimetype": "text/x-python",
   "name": "python",
   "nbconvert_exporter": "python",
   "pygments_lexer": "ipython3",
   "version": "3.6.9"
  }
 },
 "nbformat": 4,
 "nbformat_minor": 4
}
